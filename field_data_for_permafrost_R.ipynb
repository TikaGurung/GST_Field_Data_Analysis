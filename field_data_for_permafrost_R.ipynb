{
  "nbformat": 4,
  "nbformat_minor": 0,
  "metadata": {
    "colab": {
      "name": "field_data_for_permafrost.R",
      "provenance": [],
      "collapsed_sections": [],
      "include_colab_link": true
    },
    "kernelspec": {
      "name": "ir",
      "display_name": "R"
    },
    "language_info": {
      "name": "R"
    }
  },
  "cells": [
    {
      "cell_type": "markdown",
      "metadata": {
        "id": "view-in-github",
        "colab_type": "text"
      },
      "source": [
        "<a href=\"https://colab.research.google.com/github/TikaGurung/GST_Field_Data_Analysis/blob/main/field_data_for_permafrost_R.ipynb\" target=\"_parent\"><img src=\"https://colab.research.google.com/assets/colab-badge.svg\" alt=\"Open In Colab\"/></a>"
      ]
    },
    {
      "cell_type": "markdown",
      "source": [
        "![MicrosoftTeams-image.png](data:image/png;base64,/9j/4AAQSkZJRgABAQEAYABgAAD/4RDyRXhpZgAATU0AKgAAAAgABAE7AAIAAAANAAAISodpAAQAAAABAAAIWJydAAEAAAAaAAAQ0OocAAcAAAgMAAAAPgAAAAAc6gAAAAgAAAAAAAAAAAAAAAAAAAAAAAAAAAAAAAAAAAAAAAAAAAAAAAAAAAAAAAAAAAAAAAAAAAAAAAAAAAAAAAAAAAAAAAAAAAAAAAAAAAAAAAAAAAAAAAAAAAAAAAAAAAAAAAAAAAAAAAAAAAAAAAAAAAAAAAAAAAAAAAAAAAAAAAAAAAAAAAAAAAAAAAAAAAAAAAAAAAAAAAAAAAAAAAAAAAAAAAAAAAAAAAAAAAAAAAAAAAAAAAAAAAAAAAAAAAAAAAAAAAAAAAAAAAAAAAAAAAAAAAAAAAAAAAAAAAAAAAAAAAAAAAAAAAAAAAAAAAAAAAAAAAAAAAAAAAAAAAAAAAAAAAAAAAAAAAAAAAAAAAAAAAAAAAAAAAAAAAAAAAAAAAAAAAAAAAAAAAAAAAAAAAAAAAAAAAAAAAAAAAAAAAAAAAAAAAAAAAAAAAAAAAAAAAAAAAAAAAAAAAAAAAAAAAAAAAAAAAAAAAAAAAAAAAAAAAAAAAAAAAAAAAAAAAAAAAAAAAAAAAAAAAAAAAAAAAAAAAAAAAAAAAAAAAAAAAAAAAAAAAAAAAAAAAAAAAAAAAAAAAAAAAAAAAAAAAAAAAAAAAAAAAAAAAAAAAAAAAAAAAAAAAAAAAAAAAAAAAAAAAAAAAAAAAAAAAAAAAAAAAAAAAAAAAAAAAAAAAAAAAAAAAAAAAAAAAAAAAAAAAAAAAAAAAAAAAAAAAAAAAAAAAAAAAAAAAAAAAAAAAAAAAAAAAAAAAAAAAAAAAAAAAAAAAAAAAAAAAAAAAAAAAAAAAAAAAAAAAAAAAAAAAAAAAAAAAAAAAAAAAAAAAAAAAAAAAAAAAAAAAAAAAAAAAAAAAAAAAAAAAAAAAAAAAAAAAAAAAAAAAAAAAAAAAAAAAAAAAAAAAAAAAAAAAAAAAAAAAAAAAAAAAAAAAAAAAAAAAAAAAAAAAAAAAAAAAAAAAAAAAAAAAAAAAAAAAAAAAAAAAAAAAAAAAAAAAAAAAAAAAAAAAAAAAAAAAAAAAAAAAAAAAAAAAAAAAAAAAAAAAAAAAAAAAAAAAAAAAAAAAAAAAAAAAAAAAAAAAAAAAAAAAAAAAAAAAAAAAAAAAAAAAAAAAAAAAAAAAAAAAAAAAAAAAAAAAAAAAAAAAAAAAAAAAAAAAAAAAAAAAAAAAAAAAAAAAAAAAAAAAAAAAAAAAAAAAAAAAAAAAAAAAAAAAAAAAAAAAAAAAAAAAAAAAAAAAAAAAAAAAAAAAAAAAAAAAAAAAAAAAAAAAAAAAAAAAAAAAAAAAAAAAAAAAAAAAAAAAAAAAAAAAAAAAAAAAAAAAAAAAAAAAAAAAAAAAAAAAAAAAAAAAAAAAAAAAAAAAAAAAAAAAAAAAAAAAAAAAAAAAAAAAAAAAAAAAAAAAAAAAAAAAAAAAAAAAAAAAAAAAAAAAAAAAAAAAAAAAAAAAAAAAAAAAAAAAAAAAAAAAAAAAAAAAAAAAAAAAAAAAAAAAAAAAAAAAAAAAAAAAAAAAAAAAAAAAAAAAAAAAAAAAAAAAAAAAAAAAAAAAAAAAAAAAAAAAAAAAAAAAAAAAAAAAAAAAAAAAAAAAAAAAAAAAAAAAAAAAAAAAAAAAAAAAAAAAAAAAAAAAAAAAAAAAAAAAAAAAAAAAAAAAAAAAAAAAAAAAAAAAAAAAAAAAAAAAAAAAAAAAAAAAAAAAAAAAAAAAAAAAAAAAAAAAAAAAAAAAAAAAAAAAAAAAAAAAAAAAAAAAAAAAAAAAAAAAAAAAAAAAAAAAAAAAAAAAAAAAAAAAAAAAAAAAAAAAAAAAAAAAAAAAAAAAAAAAAAAAAAAAAAAAAAAAAAAAAAAAAAAAAAAAAAAAAAAAAAAAAAAAAAAAAAAAAAAAAAAAAAAAAAAAAAAAAAAAAAAAAAAAAAAAAAAAAAAAAAAAAAAAAAAAAAAAAAAAAAAAAAAAAAAAAAAAAAAAAAAAAAAAAAAAAAAAAAAAAAAAAAAAAAAAAAAAAAAAAAAAAAAAAAAAAAAAAAAAAAAAAAAAAAAAAAAAAAAAAAAAAAAAAAAAAAAAAAAAAAAAAAAAAAAAAAAAAAAAAAAAAAAAAAAAAAAAAAAAAAAAAAAAAAAAAAAAAAAAAAAAAAAAAAAAAAAAAAAAAAAAAAAAAAAAAAAAAAAAAAAAAAAAAAAAAAAAAAAAAAAAAAAAAAAAAAAAAAAAAAAAAAAAAAAAAAAAAAAAAAAAAAAAAAAAAAAAAAAAAAAAAAAAAAAAAAAAAAAAAAAAAAAAAAAAAAAAAAAAAAAAAAAAAAAAAAAAAAAAAAAAAAAAAAAAAAAAAAAAAAAAAAAAAAAAAAAAAAAAAAAAAAAAAAAAAAAAAAAAAAAAAAAAAAAAAAAAAAAAAAAAAAAAAAAAAAAAAAAAAAAAAAAAAAAAAAAAAAAAAAAAAAAAAAAAAAAAAAAAAAAAAAAAAAAAAAAAAAAAAAAAAAAAAAAAAAAAAAAAAAAAAAAAAAAAAAAAAAAAAAAAAAAAAAAAAAAAAAAAAAAAAAAAAAAAAAAAAAAAAAAAAAAAAAAAAAAAAAAAAAAAAAAAAAAAAAAAAAAAAAAAAAAAAAAAAAAAAAAAAAAAAAAAAAAAAAAAAAAAAAAAAAAAAAAAAAAAAAAAAAAAAAAAAAAAAAAAAAAAAAAAAAAAAAAAAAAAAAAAAAAAAAAAAAAAAAAAAAAAAAAAAAAAAAAAAAAAAAAAAAAAAAAAAAAAAAAAAAAAAAAAAAAENoaW1pIFNlbGRvbgAAAAWQAwACAAAAFAAAEKaQBAACAAAAFAAAELqSkQACAAAAAzI0AACSkgACAAAAAzI0AADqHAAHAAAIDAAACJoAAAAAHOoAAAAIAAAAAAAAAAAAAAAAAAAAAAAAAAAAAAAAAAAAAAAAAAAAAAAAAAAAAAAAAAAAAAAAAAAAAAAAAAAAAAAAAAAAAAAAAAAAAAAAAAAAAAAAAAAAAAAAAAAAAAAAAAAAAAAAAAAAAAAAAAAAAAAAAAAAAAAAAAAAAAAAAAAAAAAAAAAAAAAAAAAAAAAAAAAAAAAAAAAAAAAAAAAAAAAAAAAAAAAAAAAAAAAAAAAAAAAAAAAAAAAAAAAAAAAAAAAAAAAAAAAAAAAAAAAAAAAAAAAAAAAAAAAAAAAAAAAAAAAAAAAAAAAAAAAAAAAAAAAAAAAAAAAAAAAAAAAAAAAAAAAAAAAAAAAAAAAAAAAAAAAAAAAAAAAAAAAAAAAAAAAAAAAAAAAAAAAAAAAAAAAAAAAAAAAAAAAAAAAAAAAAAAAAAAAAAAAAAAAAAAAAAAAAAAAAAAAAAAAAAAAAAAAAAAAAAAAAAAAAAAAAAAAAAAAAAAAAAAAAAAAAAAAAAAAAAAAAAAAAAAAAAAAAAAAAAAAAAAAAAAAAAAAAAAAAAAAAAAAAAAAAAAAAAAAAAAAAAAAAAAAAAAAAAAAAAAAAAAAAAAAAAAAAAAAAAAAAAAAAAAAAAAAAAAAAAAAAAAAAAAAAAAAAAAAAAAAAAAAAAAAAAAAAAAAAAAAAAAAAAAAAAAAAAAAAAAAAAAAAAAAAAAAAAAAAAAAAAAAAAAAAAAAAAAAAAAAAAAAAAAAAAAAAAAAAAAAAAAAAAAAAAAAAAAAAAAAAAAAAAAAAAAAAAAAAAAAAAAAAAAAAAAAAAAAAAAAAAAAAAAAAAAAAAAAAAAAAAAAAAAAAAAAAAAAAAAAAAAAAAAAAAAAAAAAAAAAAAAAAAAAAAAAAAAAAAAAAAAAAAAAAAAAAAAAAAAAAAAAAAAAAAAAAAAAAAAAAAAAAAAAAAAAAAAAAAAAAAAAAAAAAAAAAAAAAAAAAAAAAAAAAAAAAAAAAAAAAAAAAAAAAAAAAAAAAAAAAAAAAAAAAAAAAAAAAAAAAAAAAAAAAAAAAAAAAAAAAAAAAAAAAAAAAAAAAAAAAAAAAAAAAAAAAAAAAAAAAAAAAAAAAAAAAAAAAAAAAAAAAAAAAAAAAAAAAAAAAAAAAAAAAAAAAAAAAAAAAAAAAAAAAAAAAAAAAAAAAAAAAAAAAAAAAAAAAAAAAAAAAAAAAAAAAAAAAAAAAAAAAAAAAAAAAAAAAAAAAAAAAAAAAAAAAAAAAAAAAAAAAAAAAAAAAAAAAAAAAAAAAAAAAAAAAAAAAAAAAAAAAAAAAAAAAAAAAAAAAAAAAAAAAAAAAAAAAAAAAAAAAAAAAAAAAAAAAAAAAAAAAAAAAAAAAAAAAAAAAAAAAAAAAAAAAAAAAAAAAAAAAAAAAAAAAAAAAAAAAAAAAAAAAAAAAAAAAAAAAAAAAAAAAAAAAAAAAAAAAAAAAAAAAAAAAAAAAAAAAAAAAAAAAAAAAAAAAAAAAAAAAAAAAAAAAAAAAAAAAAAAAAAAAAAAAAAAAAAAAAAAAAAAAAAAAAAAAAAAAAAAAAAAAAAAAAAAAAAAAAAAAAAAAAAAAAAAAAAAAAAAAAAAAAAAAAAAAAAAAAAAAAAAAAAAAAAAAAAAAAAAAAAAAAAAAAAAAAAAAAAAAAAAAAAAAAAAAAAAAAAAAAAAAAAAAAAAAAAAAAAAAAAAAAAAAAAAAAAAAAAAAAAAAAAAAAAAAAAAAAAAAAAAAAAAAAAAAAAAAAAAAAAAAAAAAAAAAAAAAAAAAAAAAAAAAAAAAAAAAAAAAAAAAAAAAAAAAAAAAAAAAAAAAAAAAAAAAAAAAAAAAAAAAAAAAAAAAAAAAAAAAAAAAAAAAAAAAAAAAAAAAAAAAAAAAAAAAAAAAAAAAAAAAAAAAAAAAAAAAAAAAAAAAAAAAAAAAAAAAAAAAAAAAAAAAAAAAAAAAAAAAAAAAAAAAAAAAAAAAAAAAAAAAAAAAAAAAAAAAAAAAAAAAAAAAAAAAAAAAAAAAAAAAAAAAAAAAAAAAAAAAAAAAAAAAAAAAAAAAAAAAAAAAAAAAAAAAAAAAAAAAAAAAAAAAAAAAAAAAAAAAAAAAAAAAAAAAAAAAAAAAAAAAAAAAAAAAAAAAAAAAAAAAAAAAAAAAAAAAAAAAAAAAAAAAAAAAAAAAAAAAAAAAAAAAAAAAAAAAAAAAAAAAAAAAAAAAAAAAAAAAAAAAAAAAAAAAAAAAAAAAAAAAAAAAAAAAAAAAAAAAAAAAAAAAAAAAAAAAAAAAAAAAAAAAAAAAAAAAAAAAAAAAAAAAAAAAAAAAAAAAAAAAAAAAAAAAAAAAAAAAAAAAAAAAAAAAAAAAAAAAAAAAAAAAAAAAAAAAAAAAAAAAAAAAAAAAAAAAAAAAAAAAAAAAAAAAAAAAAAAAAAAAAAAAAAAAAAAAAAAAAAAAAAAAAAAAAAAAAAAAAAAAAAAAAAAAAAAAAAAAAAAAAAAAAAAAAAAAAAAAAAAAAAAAAAAAAAAAAAAAAAAAAAAAAAAAAAAAAAAAAAAAAAAAAAAAAAAAAAAAAAAAAAAAAAAAAAAAAAAAAAAAAAAAAAAAAAAAAAAAAAAAAAAAAAAAAAAAAAAAAAAAAAAAAAAAAAAAAAAAAAAAAAAAAAAAAAAAAAAAAAAAAAAAAAAAAAAAAAAAAAAAAAAAAAAAAAAAAAAAAAAAAAAAAAAAAAAAAAAAAAAAAAAAAAAAAAAAAAAAAAAyMDIyOjA2OjA5IDE0OjU5OjI1ADIwMjI6MDY6MDkgMTQ6NTk6MjUAAABDAGgAaQBtAGkAIABTAGUAbABkAG8AbgAAAP/hCx9odHRwOi8vbnMuYWRvYmUuY29tL3hhcC8xLjAvADw/eHBhY2tldCBiZWdpbj0n77u/JyBpZD0nVzVNME1wQ2VoaUh6cmVTek5UY3prYzlkJz8+DQo8eDp4bXBtZXRhIHhtbG5zOng9ImFkb2JlOm5zOm1ldGEvIj48cmRmOlJERiB4bWxuczpyZGY9Imh0dHA6Ly93d3cudzMub3JnLzE5OTkvMDIvMjItcmRmLXN5bnRheC1ucyMiPjxyZGY6RGVzY3JpcHRpb24gcmRmOmFib3V0PSJ1dWlkOmZhZjViZGQ1LWJhM2QtMTFkYS1hZDMxLWQzM2Q3NTE4MmYxYiIgeG1sbnM6ZGM9Imh0dHA6Ly9wdXJsLm9yZy9kYy9lbGVtZW50cy8xLjEvIi8+PHJkZjpEZXNjcmlwdGlvbiByZGY6YWJvdXQ9InV1aWQ6ZmFmNWJkZDUtYmEzZC0xMWRhLWFkMzEtZDMzZDc1MTgyZjFiIiB4bWxuczp4bXA9Imh0dHA6Ly9ucy5hZG9iZS5jb20veGFwLzEuMC8iPjx4bXA6Q3JlYXRlRGF0ZT4yMDIyLTA2LTA5VDE0OjU5OjI1LjI0MTwveG1wOkNyZWF0ZURhdGU+PC9yZGY6RGVzY3JpcHRpb24+PHJkZjpEZXNjcmlwdGlvbiByZGY6YWJvdXQ9InV1aWQ6ZmFmNWJkZDUtYmEzZC0xMWRhLWFkMzEtZDMzZDc1MTgyZjFiIiB4bWxuczpkYz0iaHR0cDovL3B1cmwub3JnL2RjL2VsZW1lbnRzLzEuMS8iPjxkYzpjcmVhdG9yPjxyZGY6U2VxIHhtbG5zOnJkZj0iaHR0cDovL3d3dy53My5vcmcvMTk5OS8wMi8yMi1yZGYtc3ludGF4LW5zIyI+PHJkZjpsaT5DaGltaSBTZWxkb248L3JkZjpsaT48L3JkZjpTZXE+DQoJCQk8L2RjOmNyZWF0b3I+PC9yZGY6RGVzY3JpcHRpb24+PC9yZGY6UkRGPjwveDp4bXBtZXRhPg0KICAgICAgICAgICAgICAgICAgICAgICAgICAgICAgICAgICAgICAgICAgICAgICAgICAgICAgICAgICAgICAgICAgICAgICAgICAgICAgICAgICAgICAgICAgICAgICAgICAgIAogICAgICAgICAgICAgICAgICAgICAgICAgICAgICAgICAgICAgICAgICAgICAgICAgICAgICAgICAgICAgICAgICAgICAgICAgICAgICAgICAgICAgICAgICAgICAgICAgICAgCiAgICAgICAgICAgICAgICAgICAgICAgICAgICAgICAgICAgICAgICAgICAgICAgICAgICAgICAgICAgICAgICAgICAgICAgICAgICAgICAgICAgICAgICAgICAgICAgICAgICAKICAgICAgICAgICAgICAgICAgICAgICAgICAgICAgICAgICAgICAgICAgICAgICAgICAgICAgICAgICAgICAgICAgICAgICAgICAgICAgICAgICAgICAgICAgICAgICAgICAgIAogICAgICAgICAgICAgICAgICAgICAgICAgICAgICAgICAgICAgICAgICAgICAgICAgICAgICAgICAgICAgICAgICAgICAgICAgICAgICAgICAgICAgICAgICAgICAgICAgICAgCiAgICAgICAgICAgICAgICAgICAgICAgICAgICAgICAgICAgICAgICAgICAgICAgICAgICAgICAgICAgICAgICAgICAgICAgICAgICAgICAgICAgICAgICAgICAgICAgICAgICAKICAgICAgICAgICAgICAgICAgICAgICAgICAgICAgICAgICAgICAgICAgICAgICAgICAgICAgICAgICAgICAgICAgICAgICAgICAgICAgICAgICAgICAgICAgICAgICAgICAgIAogICAgICAgICAgICAgICAgICAgICAgICAgICAgICAgICAgICAgICAgICAgICAgICAgICAgICAgICAgICAgICAgICAgICAgICAgICAgICAgICAgICAgICAgICAgICAgICAgICAgCiAgICAgICAgICAgICAgICAgICAgICAgICAgICAgICAgICAgICAgICAgICAgICAgICAgICAgICAgICAgICAgICAgICAgICAgICAgICAgICAgICAgICAgICAgICAgICAgICAgICAKICAgICAgICAgICAgICAgICAgICAgICAgICAgICAgICAgICAgICAgICAgICAgICAgICAgICAgICAgICAgICAgICAgICAgICAgICAgICAgICAgICAgICAgICAgICAgICAgICAgIAogICAgICAgICAgICAgICAgICAgICAgICAgICAgICAgICAgICAgICAgICAgICAgICAgICAgICAgICAgICAgICAgICAgICAgICAgICAgICAgICAgICAgICAgICAgICAgICAgICAgCiAgICAgICAgICAgICAgICAgICAgICAgICAgICAgICAgICAgICAgICAgICAgICAgICAgICAgICAgICAgICAgICAgICAgICAgICAgICAgICAgICAgICAgICAgICAgICAgICAgICAKICAgICAgICAgICAgICAgICAgICAgICAgICAgICAgICAgICAgICAgICAgICAgICAgICAgICAgICAgICAgICAgICAgICAgICAgICAgICAgICAgICAgICAgICAgICAgICAgICAgIAogICAgICAgICAgICAgICAgICAgICAgICAgICAgICAgICAgICAgICAgICAgICAgICAgICAgICAgICAgICAgICAgICAgICAgICAgICAgICAgICAgICAgICAgICAgICAgICAgICAgCiAgICAgICAgICAgICAgICAgICAgICAgICAgICAgICAgICAgICAgICAgICAgICAgICAgICAgICAgICAgICAgICAgICAgICAgICAgICAgICAgICAgICAgICAgICAgICAgICAgICAKICAgICAgICAgICAgICAgICAgICAgICAgICAgICAgICAgICAgICAgICAgICAgICAgICAgICAgICAgICAgICAgICAgICAgICAgICAgICAgICAgICAgICAgICAgICAgICAgICAgIAogICAgICAgICAgICAgICAgICAgICAgICAgICAgICAgICAgICAgICAgICAgICAgICAgICAgICAgICAgICAgICAgICAgICAgICAgICAgICAgICAgICAgICAgICAgICAgICAgICAgCiAgICAgICAgICAgICAgICAgICAgICAgICAgICAgICAgICAgICAgICAgICAgICAgICAgICAgICAgICAgICAgICAgICAgICAgICAgICAgICAgICAgICAgICAgICAgICAgICAgICAKICAgICAgICAgICAgICAgICAgICAgICAgICAgICAgICAgICAgICAgICAgICAgICAgICAgICAgICAgICAgICAgICAgICAgICAgICAgICAgICAgICAgICAgICAgICAgICAgICAgIAogICAgICAgICAgICAgICAgICAgICAgICAgICAgICAgICAgICAgICAgICAgICAgICAgICAgICAgICAgICAgICAgICAgICAgICAgICAgICAgICAgICAgICAgICAgICAgICAgICAgCiAgICAgICAgICAgICAgICAgICAgICAgICAgICA8P3hwYWNrZXQgZW5kPSd3Jz8+/9sAQwAHBQUGBQQHBgUGCAcHCAoRCwoJCQoVDxAMERgVGhkYFRgXGx4nIRsdJR0XGCIuIiUoKSssKxogLzMvKjInKisq/9sAQwEHCAgKCQoUCwsUKhwYHCoqKioqKioqKioqKioqKioqKioqKioqKioqKioqKioqKioqKioqKioqKioqKioqKioq/8AAEQgAdgQ3AwEiAAIRAQMRAf/EAB8AAAEFAQEBAQEBAAAAAAAAAAABAgMEBQYHCAkKC//EALUQAAIBAwMCBAMFBQQEAAABfQECAwAEEQUSITFBBhNRYQcicRQygZGhCCNCscEVUtHwJDNicoIJChYXGBkaJSYnKCkqNDU2Nzg5OkNERUZHSElKU1RVVldYWVpjZGVmZ2hpanN0dXZ3eHl6g4SFhoeIiYqSk5SVlpeYmZqio6Slpqeoqaqys7S1tre4ubrCw8TFxsfIycrS09TV1tfY2drh4uPk5ebn6Onq8fLz9PX29/j5+v/EAB8BAAMBAQEBAQEBAQEAAAAAAAABAgMEBQYHCAkKC//EALURAAIBAgQEAwQHBQQEAAECdwABAgMRBAUhMQYSQVEHYXETIjKBCBRCkaGxwQkjM1LwFWJy0QoWJDThJfEXGBkaJicoKSo1Njc4OTpDREVGR0hJSlNUVVZXWFlaY2RlZmdoaWpzdHV2d3h5eoKDhIWGh4iJipKTlJWWl5iZmqKjpKWmp6ipqrKztLW2t7i5usLDxMXGx8jJytLT1NXW19jZ2uLj5OXm5+jp6vLz9PX29/j5+v/aAAwDAQACEQMRAD8A+kaKKKACiiigAooooAKKKKACiiigAooooAKKKKACiiigAooooAKKKKACiiigAooooAKKKKACiiigAooooAKKKKACiiigAooooAKKKKACiiigAooooAKKKKACiiigAooooAKKKKACiiigAooooAKKKKACiiigAooooAKKKKACiiigAooooAKKKKACiiigAooooAKKKKACiiigAooooAKKKKACiiigAooooAKKKKACiiigAooooAKKKKACiiigAooooAKKKKACiiigAooooAKKKKACiiigAooooAKKKKACiiigAooooAKKKKACiiigAooooAKKKKACiiigAooqpqGqWmlRRyX0yxLJII1J7k/096aTbshNpast0UUUhhRRRQAUUUUAFFFFABRRRQAUUUUAFFFFABRRRQAUUUUAFFFFABRRRQAUUUUAFFFFABRRRQAUUUUAFFFFABRRRQAUUUUAFFFFABRRRQAUUUUAFFFFABRRRQAUUUUAFFFFABRRRQAUUUUAFFFFABRRRQAUUUUAFFFFABRRRQAUUUUAFFFFABRRRQAUUUUAFFFFABRRRQAUUUUAFFFFABRSMyopZyFVRkknAArhNV+LOjWwkTR7a61d1B2yQKqwlgOPncjcM91DCplKMVeTsaU6VSq+WnFt+Rva5410Hw9dLa6nekXLDd5EMTyuo9WCA7RxwTjPasi6+K/hiGzeS3muLi5ztjtPs0kbyt143qBjHJOcD68V43Dqi3K/a5Xku769LTyhULSSP/ESvYL054UADgCrekaLeeLNVhgtbuysnt2acF905wAUP3cI33/4XP4VyQrVqs2qcND2auBweGpxlXq+9pojsG+KfiU3fmrZaUlv1+ykSM/083cB+Oyuosfix4buLEPfST2V4pCy2ZgeV1PqNgIKns3A9cHIHASeF4YpzFL4wtFKv5bP/ZreWr5xtL+ZtByQME5rM1Xw3qHhzW5IXu7HUJbmE3BC5t2WNMLk7tyqMn+JwM9+1EY4yN3JJhUeUVXGNOTh3dn+p7Ro3jnw/r199jsL1hdEZWGeF4WcYz8u8Dd74ziugr5nubuOEOLlpdPurYCdfMXZJEV5Ei+uD0K5Br1XQfi3p1xZ2q+ILO8024aJPOnaINDvIGfuMWUZ/vAAetVRxHNdVFysxxmXeytPDvni+q1t62PQ6KZDNFcQJNbyJLFIoZJEYMrA8ggjqKfXWeQFFFFABRRRQAUUUUAFFFFABRRRQAUUUUAFFFFABRRRQAUUUUAFFFFABRRRQAUUUUAFFFFABRRRQAUUUUAFFFFABRRRQAUUUUAFFFFABRRRQAUUUUAFFFFAB0rzfxBfw61fzXTgzWdv+7gQc7+cMwHPLNgA+g7HBHS+MNUa2sBp9qx+1XilQV/gT+Jvb0HTr7V5tq155csVpaNtitsEAEH5sZ9BnGcc/jzmvRwlJv3jjxFRLQ9K8HawdQ0v7JdfLeWeEkQnJK/wn344/D3roq8r03Wfsd9aa1Ch8vmG6RfvMMAscAYwuVIJPoK9SikSaJJImDI6hlYdwehrnxFPklfozWjPmjbsOooormNwooooAKKKKACiiigAooooAKKKKACiivIf+bmP8/8APnW9Gj7Xm1tZN/cYVq3suXS92l9569RRXmHjPx5qt14g/wCEX8EqWvN2ya4UAkN3Vc8ADux6e2M0qNGVaXLH/hh1a0aUeaX/AA56fRXko+FPie5jFxe+LZBedcb5HAJ/29wP6V1fgCy8S6ZDf2Piq4e5MLp9mmZ/MDKQc4Y8nkdDyK0qUacYuUZp2M6dapKVpQaudfRXIfFX/kmeq/8AbH/0clY/wQ/5Em7/AOwi/wD6LjpKheg619naw3XtXVG26vc9HoorlfiN4h/4R3wZdTRPtubn/R4MHBDMOSPoMn64rGnB1JqC3ZtUmqcXN7I6qiuS+G3iX/hJPCMLTvuvLTEFxk8kgcN+I/XNdFqmowaRpVzqF422G2jMj++Ow9z0pzpyhN03uKFSM4Ka2LdFeZ/Cvxrc6/qWq2WqSbp5ZDdwAnO1TgMg9h8uPqa9Mqq1GVGfJIVGtGtDnjsFFVdT1G20jTLi/v5PLt7dC7t7eg9SegHrXkceqeMvidqE/wDY07aTpETbdyuUH0LDlmx2HA4/GqOHdVOTdorqyK1dU2opXb6I9morySf4Z+L9Lj+1aL4pluLlPm8syPHu9gSxB/HArZ+H/wAQLnVr19A8Sp5Grw5Csy7PO29QV7MOvHBGfStJYZcjnTkpJb9yI4l86hUi4t7dj0KiivBNIsvEvi3xZq1lp/iG6tfs0sj/AD3Mm3G/AAANRQoKqpNyskVWruk4pRu2e90V41et8RvACi9ur/8AtbT0b94XkMygZ/i3AOv1HFemeFfE1p4r0KPUbMbCTslhJyYnHVT69evoadXDSpx500490FLEKpLkaal2Zs0UUVynSFFFFABRRRQAUUUUAFFFFABRRRQAUUUUAFFFFABRRRQAUUUUAFFFFABRRRQAUUUUAFFFFABRRRQAUUUUAFFFFABRRRQAUUUUAFFFFABRRRQAUUVFd3C2llPcuCVhjaQgdwBmgDhPi9r1rp/hmHSpLyKGXU7hInjMoVjCMsxxnO0lQhPT58d68ovJ5fLkisDGJUhMrSOfkiXHBPqSRhR3PsCRLPfPdR3Gsas3mXFypnuXIz2ztH+yBwB6CrejeEdS0u3S+1aMafYWwkv7kW4DGQheYgAdpwuU2uMctjJY486EFjK138MT6WrUllGE5U1zz19Bul6HeW1jDJ9qtYtOvphlYvnuL+QrngDLOwILBchPvHG3mu70zwjcWkL3Nna6f4cTymAKp510AR/FKTtQZySo3jJzuzmqnhbXo2jOs3Wh6i13cApEiRxBLOEHAhQbxjpljjJb2CgWtd8VW2q21xp89jdQWkMazahHP5eZo2bbHbqAx+aZ/k56jf3rerVrOfJRVo9z5z2M2uerds4iy1vW1+KeiLFo5/sRdEjt2037TAWkt5IfMkbyWbexLrndwSEPBJNdlZ+HdQ1DwbpjXi2GtxtZxP5MvEqEqD+7uBw2OxKjJAJYdajW7aTQZVm0rUo9ZnmF615HHFhLoYKkYkBKKFVMHqi7T1NWtG8ULpkccX9m3b296XlghgCk2soP7+A7mHCudy+qtwMLU1Kle16atZ/eU6L2kjkdd0kSQZit5brS4JALnTJIgl3p7no6Hjk4HzbiGPOWBIObLFJYXSW086XUUyl7S9jHyXKA4PTjcp6gccgjg13XinxDE1g+qQaLqMV7ZxsUeRItsqdWhf8Aecq3TocHBAz15keHYNZ0NtKt0/d3w+3WpujukiuQCCsgBIXlWjYEBTk4OflGjp/W6dpq0v6/A6sHi62W1eb7L3X6+qOy+D2t29xpmoaMt7DK9ncl4YVcEpE4BIAz0D7/AKZAr0ivmuzlfyrW+0/dZXcHzwOo2tA44I/mCOhGQa+hdB1P+2vDunaoE8v7bax3Gz+7vUNj8M4qMLW548r3R05rhPYVVUTvGeq/r5l+iiius8gKKKKACiiigAooooAKKKKACiiigAooooAKKKKACiiigAooooAKKKKACiiigAooooAKKKKACiiigAooooAKKKKACiiigAooooAKKKKAA1xuoeLdT07WZbGe2tkC5KSMGwy4JB698Y+tdlXL+NtMjuLGK+MRka3YB8f88z1zj06/nXJi/aKnzU3Zo7sC6TrclVXT0+ZQHjTUCxATTiB1PmN7f4ioZ/H19AoJt7N85+4zHHT/ABrj542t5niJI5/MdqfYW/2q8Csu9IxvdR3GQMe/J6CvJwtbEYitGkpWv/TPexWGwuGoSrSinb8exoajq93NcyXtyYxc3ShRGF/1abTgA4I/iyV45xWD9mU9WYmu68M6Nb+IJby71KBnhjPkwfMQDySzZGMnP86b4g8MWOly2z26SNExJcM55284z7j+VezmGKxVN3w8uWK0frt2PDy3D4Oa5cTHmk9V2ta/c5a2snFmyxXkSLMPmRyARyRx6f4Gun0TxJdaVpMNnvtJwnEbPKQcEng8dq2brwRpi6fO1vA/2nyT5eJGwHxxgE+vrXAR2ySaRMyjF1DJyGcZYYJI28Y4Ge/Q1jFZjXfJKavv+nb+rm0pZZSXPGm7Xt6de/8AVjtf+E2uuP3Fkc4/5bt3/CoZviBPCFP2O3k3f3JicfXj3rhgcjIrZ0uwe5mtrJA2bxx5pA5RAcn9Oc/hXjRxmJk+VPU9uWAwkI87jp8/8z0Tw/qtxrGn/a7i2FurMRGAxO4Dv+f8q1aZDEkEKRQqFjRQqqOwFPr6SmpRilJ3Z8lUlGU24qy7BRRRVmYUUUUAFFFFABRRRQAV5D/zcx/n/nzr16vIf+bmP8/8+dd+D/5ef4WcOM/5d/4kesXkrQWM8qfejjZhn1AzXlfwQtI5hrGqTN5l00ix7mOWAOWJ/E4/KvWWUOpVhlWGCD3FeJaZeXHwl8dXVpqMMj6PfH5JVGcoCdrj1K5II68/TLwqc6VSnH4nb52FiWoVadSXwq/yvse3UVjweL/DtxZ/aotbsPJxks1wqlfqCcg+xpugeKtO8Sz3q6S7SxWbqjTYwrk5+77cda43Tmk21sdntINpJ7mV8Vf+SZ6r/wBsf/RyVj/BD/kSbv8A7CL/APouOtj4q/8AJM9V/wC2P/o5Kx/gh/yJN3/2EX/9Fx13R/3CX+L/ACOCX+/R/wAP+Z6PXjnjd38bfFOw8N27E2lmdsxXPB+9IfwUAD3+teo+ItYi0Dw7e6nNgi3iLKp/iboo/EkCvPvg1o0sseoeJr/L3F5I0cbt1YZy7fi3H/ATUYX91CVd9NF6v/I0xP7ycaC66v0X+Zk2ZPwz+LTWrEppGo4Ckn5VRj8p/wCANx9M+taXxb1q41HULHwhpPzzXDo86juSfkU/+hH8K6H4qeGf7f8ACT3Fum680/M0WByy4+dfyGfqorlPhBoU2p6nc+KdWZ53j/c27ynJZ8YZufRcKPqfSuuE6coLFS+KKt6vozlnCcZvCx+GWvouqM/xFon/AArHxdoOraeGe12Ksx5+dlG2T6blOR759K9uhljuIEmhcPHIoZGHRgRkGub+IXh//hI/Bt3bxpuuYR59v6717fiMj8ayPhD4g/tbwj9gmfdcaa3lcnkxnlD/ADX/AIDXLVbr4dVXvHR+nQ6aSVCu6a2lqvXqV/jZcyw+DLaKNtqT3irIP7wCscfmAfwrq/BljBp3gvSYLXbs+yxyFl6OzKGLfiSTVT4geG38UeEZ7O2AN1Ewntwe7rnj8QSPxrkPh58Q7Sx09PD/AInk+w3Nl+6jlmG1So/hb+6R054wKai6uEShunqv1E5Knim57NaP9D1WvH/iPCul/FTQNSsyI552iMgXuVkxk/UHH4V6HqPjXw5plobi41izZdu5VhmWRnHsqkk15poSXnxL+Ji69NA8Ol6e6lA3YIcome5J+Y+mfpRg4Sg5VZaRSfz8gxc4zUaUdZNr5eZ7RXkHwp/5KH4j+kn/AKNr1+vFPh1q2n6R4+8QSapewWiOZFVppAgY+b0GanDJujVS7L8ysS0q1Jvu/wAj2e4t4ru1lt7hBJFKhR0YcMCMEV5P8GN1prniCwSTfBGVwc8EqzLn8R/Stfxh8VtKsNMlt/D1yL7UJVKo8QOyLP8AFnuR2AqX4S+FrjQtCnv9RjaK71Aq3lv95Ixnbn0JyTj6VUYSpYaftNOa1kTKcauJhya8t7noFFFFecegFFFFABRRRQAUUUUAFFFFABRRRQAUUUUAFFFFABRRRQAUUUUAFFFFABRRRQAUUUUAFFFFABRRRQAUUUUAFFFFABRRRQAUUUUAFFFFABRRRQAVkeKdXt9D8L31/dxGZEj2rCP+WrMdqp+LMBntmteuX+Iul3Oq+CrlLGNpp7d0uFiXrIEYFlHqducDucVMm1FtGlNRc0pOyvqeDw2N3M2naVqHlz2s00Uc0sTsjmNTufj3VTyD+Fdh4Lt47qOztrPVotTsrvUEaSOKPy1gWNGnIO0kMxkCKeeh564PNxT215f6ckVzH/pE3lIVfkmSN0GO/Vh711fw8vIx/Zvl3EVxCdRnt0aFmYKWgaT5sooUnYeANuSMYzg8WFbWFqNb2Z6mff71CKd1ZfqbWulPCuuTTyK/9naluljCLnZcgZaMDqTIBuAA+8r+orkfGOrah4a8K6hqsKQS3Wlyxz3Ky7mjkvJGSMpwRlIY32DB5YsSMrXdeIb+W+1eO3slSRrOdY7YOu5XvmXcpIzysMeZW9yuORivPvGtnd3/AMF9S0yzspptShaOG4toVaWQzLOhkPAy2eX3Y5BDd62wsm6aUt/0OanJzTX8qdvX/gFt/iKU03w9b2lkNS1/V7aC4eyt22rErqrO7E52qMnGa39QtQt5iORIlvZU2yNjbbXoGIZD7OD5TdyGX6151ZeEvEfhPTtL8Q+DLUTX15ptvb6hp14p3JJ5agOM4K7WxuXIxj8uq0fwv/wjXhnUH1eeXV9Y1dgLpi5/fzN8qRoP4QCcA8YHPAAA6+mp0vmnFqX/AAx0Wit/wlmr26tE8VpprCa+hfBIulPywNjIyjAu2D1WPqDWf4mtbrTvEl1PpESyz2t1Fe7FtvMdIZwVYDYpfaZYXY4I+83XgDZ0C9vNK1gw6uV82eRLbUGU8G52gQ3A4HyzRrtPQCRNoySTWD8SNMttS1HV3urY3EfkWEAYSBPIeN7iRmLE8fJKBxk89PTz6c5vFp9Laeh5lebqq8jmNetry28Va1ZWPkxxfajKJXySplRZSAn+87dSPpXtngDUrbUfA+m/ZIfs4tYVtHgznymjAQjPccAg9wRXjGo/6N4h1KG4nDyWi28MsjSb8lbePcSx5PJPJ9K9W+Fmlz6f4TlublGjbUrprtI3GCqFERePcRhv+BU6emKqRS0PYxaUstw85P3rfhb/AIY7Siiiu08IKKKKACiiigAooooAKKKKACiiigAooooAKKKKACiiigAooooAKKKKACiiigAooooAKKKKACiiigAooooAKKKKACiiigAooooAKKKKACmyRrLG0cihkYEMD3Bp1FAHkviHTJdO1Q2ghO1FLRuBnenYn6YOahskE1vHY2YEt5eSbCcghARjp1HBPX3PbnpPFeom81cxWXlbLBSJ5HIBYnB2rn0wPoTWV4evE0TxHFJIsbQXI2+Zj7qseCD27Zryop5dXd18a0fbX+vwPecv7Swys9YPVd9P6/E2pXvvA2jTXk5jksbeI5XdyzE/Ko4HJZvTgHvxjkr2TxdrNqb668T2enTkNImn7zEqIpCnLYxwTg5J5yCcggdd8Qmi17wjfabpztLdKqzqiqTuCHcR+QOPU1zB0OTWraHVtEiFzY3Gjx2CwxkbopQ67lI7AYJJ/wAamat7kHdep6OAlBUlWqJKTdm2ltZW32vrr5Fvwx4116DVJPDmuSW97qHlFoJInV2DjrG5XgnaCeOfXJ4pdW0+90G+h1G8BZLp/wB8ASMEEHqDz69s88VheH9Aktfi+ZZrmIraySXN06t8sRYsFj3dCxyv6+ld9431qzOmjT41juZZ/mznIjGfvZHf0/GrpVvZL285fD07+Xz/AA+RjmeHpzrRo0Iq04puy2fddl1t1XqcPcRQ299lMtbM2VwcEdMr9RmvQfBmmPFaNqV2pE1yMRqf4I+359fyrhrYvdW50+6IMlt88TF8jGDgdeR0HHr0yc16ppN/DqWmQ3NuNisMFMYKMOCp+h4rvqYKHt/rUNpa/N9fn+dzwljqn1f6pP4o6fJdP66WLlFFFanGFFFFABRRRQAUUUUAFFFFABXOf8IRpv8AwnP/AAlXn3X27/nnvXyv9V5fTbnp79a6OirjOUL8r30IlCM7cy21CqOr6Lp2u2Js9WtI7mE8hXHKn1BHIPuKvUVKbi7oppNWZ57J8FfDLzmRZ9RjXOfLWZdv05Qn9a63QPDOleGLN7bR7byVkIaRixZnPqSa1aK2niKtRcs5Noyhh6VN80IpMzfEGh23iPQ7jSr55Y4LjbuaEgMNrBhgkEdVHaq/hbwtZeEdLksNNluJYpJjMTcMrNuKqOwHGFFbVFZ+0mocl9C/Zxc+e2pl6/4esfEunix1QSNbhxIVjkKZI6Zx9ataZptro+mQafYR+Xb26bEXOeP8e9VL2HWr1SlldQaZH/faLz5T+GQqn/vquV1P4balqmWn8Z6ozsOQw+TP+6rAAe1awSlHlnOy+bM5txfNCF38kd+eetVrDT7XS7JLTT4FggQkrGgwBkkn9Sa8ju/hb4w0wmXRNfM5HOFuJIHJ9ucfrUMPiv4l+HHEOpabPeouOZ7UyDH/AF0Tr+JNdCwamv3VRPy2Od4twf7ym1+J7XWDo3gzR9A1a51HS4pYZrkMJF80lCCc/d6Dnp6VyemfE3xBeyrE3gi+kJOC8TMAPzTA/E11+nXHiHUow9/ZW+jRnqgm+0TEfXAVf/HvpWMqVWimm7J+a/Q2jVpVmmle3k/1Nuud8Q+BNA8TSedqVntucY+0Qtsc/XsfxBrogMADr9aKwhOUHeLszeUIzVpK6OAtPgz4XtpxJK19dqP+Wc0wCn/vlVP613FlZWunWiWthbx28EYwsca7QKnoqqlapV+OVyKdGnS+BWCuLuPhP4WurqW4mtrgySuXYi4YZJOTXaUUoVZ0/gdhzpwqfGrnM6P8PPDOh3K3NlpqtcKcrLO5kKn1AJwD7gZrpqKKU5zm7ydxwhGCtFWCiiioLCiiigAooooAKKKKACiiigAooooAKKKKACiiigAooooAKKKKACiiigAooooAKKKKACiiigAooooAKKKKACiiigAooooAKKKKACiiigAooooAKKKKAPmCFWudMi1SCGNdSk23qvtAPnbhKOf96vSYv7GvrbSf7N0+T+y57WfVRaWKlZbqePywsW4Y+b52JGQTsx0DVW8Y+Ar3RJbrU9Dh+16X888turAS238TbQeGTqcZyOgBHTmfCerwW7Np/iOEwaPeT+dayicq9jMwxu3qQYw2T8yn5STz8xI4sO5UqkqdTaWzPezCNLF4eFehq4K0lbp/wDtF1L+y7PQdRuNGXRdUkt7mI6GIJrl0BkUvKvkRu2CQpLFcHeuSDjOTqGvtDrEusPHJZRTRLHcrJpGphXcELG+42wAbB2993yDjbz0txpv/AAjd6da02T7RLIohuI9QuyzzqXJUJLISVbLHC52nIHHBGpFq2jeJbW40udsSTRtHPYXSmKYKcqcoeSOuGGQeoJ60sQ5UKvPyfM8SjV6xepxX/CUN/cf/AMFOpf8AyLUVnrxu9YttURJLyGzEiRRR6RqRRZs7WckWp+ZQGXHGNzZzxi59ov7VD4e83zNbWUWsMrrnzEIJW5IGONgLNjjcrKO1dYL7RfCWm2uli4+aGMJDbITNcTY77BlmJJyWx1OSarEYhcqjFX5vyO2tUlypc17+hx2u+IJrmw1LVYNJk1K+t7NLf+yUsruN5EeUMJpFkjRyqeWxUoDgluQTSaS+kz2968smo2NpNZR6pd293LKt1ZSpmJxI7nfIpEIA35zsbkggDoW0m+17WYNav5LnR2to2jtILWULMAxBJmYZDdBiPlR1O4428J411YXE82l6Fuv4llV9Uu5ZiZLt0Pywqx4wp5IGFz8vHzVvTtQpKc1byOKjSli6vsqev6Luc5fQpfWt3q13aQi+maS7zJGGMTMSwX6AYXGegr6cifzIUfGNyg49OK8V8KeCL7xalteX8Bs9DlCyN5pHmXaddgUZwp6EnBxnA5yPbawwsaiTlU6s9bNamHlKFOhtFWuFFFFdh4wUUUUAFFFFABRRRQAUUUUAFFFFABRRRQAUUUUAFFFFABRRRQAUUUUAFFFFABRRRQAUUUUAFFFFABRRRQAUUUUAFFFFABRRRQAUUUUAFZfiHVv7I0ppYl8y5kPlwRj+Jz/QdT9K1K8513XGu9ZnmWCZktQYrYLG3zf3m6Y+Y8ewHet6FPnl5Iyqz5YnPaxcm3txYI4Zy2+dwzZdvU5Pc5OPx71FZSLdWbwyyBGjBdC3c+lTJpsF1GLm8kmSeRWeRBGR8+44A+XjI/Lj1qaPSdOVd/2m5Q/LlSmcfKCf4ecciujMMJHFUPZr4ls/z+QZdjJYSvzv4Xuvy/r1Ov8Ah9NbyadPEEAuIX+Zu7K3T+R/SjW9H0NdfhEthHG10QZpIpnh3dcltjAHgd65NIoLSGRrPUp1Zl2OytsGcA7TxyCc/THNY9xe3Tzk+fNKqMfLZ2JIHr7V5FPLsSqKpe7deb/+RPWlmNBYiVaLmk+y/wApdz12TR9G03QJrdLaG2skUu2xBx/te5+uc15g0sT3M1z/AA7vkjZucH8Dx+PFQ2d7qVwzWy3ExjmG10LHDfhT5pEllhtpB5cCsFd0G4gdyD/SuDFYadbFQw6Sv5a2/BbLU9DB4iFHCzxU22n30b/F7vQzzdyLcmVHOeQfcHr+degeFdThsLyGFZCbXUQNhY9JgOe55bv7j3rkn07SVYr9rl6cPwQTj0AzjJ/T8ait50s/tNs8j+VvDxvGRkgHIGffg/UfhX2KoU1RVKC0SsfGyr1JVnVm9W7ntlFZHhnW113RY7k4E6/JMvow7/Q9a168eUXFuLPQi1JXQUUUVIwooooAKKKKACiiigAooooAKKKKACiiigAooooAKKKKACiiigAooooAKKKKACiiigAooooAKKKKACiiigAooooAKKKKACiiigAooooAKKKKACiiigAooooAKKKKACiiigAooooAKKKKACiiigAooooAKKKKACiiigAooooAKKKKACiiigAooooAKKKKACiiigBskaTRPHKoZHUqynuD1FfPGqaRN4bvX0XV1xsykEko+W6i6KwJ4J243Dsc+2fomorm1t72Aw3kEVxE3WOVAyn8DWFegq0bM9DA46eDqOUVdPdHzfZazqCwtYhW1HSLKXEFu85VlYKQVU/xxjcBsY44xkDirFtr89zuj1e/tXtwEP2TV0Em07lB2tMVDNt3NwcZ24OMgd34u+HF1DfSah4StIpIJiDLpsZWIo/QtHkhcHupI5yQecVx+o+DvFNxp0q/8I7eeSMefloixTI3BVDksSM8AH+QOMauJoz5WuZHdUw+XYun7VT5J9vM6W+g8MQ/8TK3sIbmWCzwLtbxPKwSMxbVlzu4yMKR2zWdd69pemHUbbRdU0y1jM0ctoNGgEzyckusnljgng5Y8nknBxXJFtKWUh0tlmU7DGyASBum3aRuz7YzWxpnhHxPFY708O3v2WR2eA/u1YKxzhkLBl5J4IHGOlNY2ck3CnqS8lw9OSVbEKz/AK7/AIker+LNVmtVsLYy6boss5Q75c3JVySFLgkKuSFwCTgj5u1Q6dYS6rdR6NoEYe4YBAIhlbZTxvfH3VHJ564wMk12nhf4bX1/qMV34rtEt7GBt4sJGSRrhh08zaSoQcHGSScZwAQfU7WztbGEQ2VtDbRDokMYRR+AqPY1MQ1Ou/kayx2HwClRwUb3+0M06wh0vS7TT7QbYLSFIIh6KqhR+gqzRRXefPBRRRQAUUUUAFFFFABRRRQAUUUUAFFFFABRRRQAUUUUAFFFFABRRRQAUUUUAFFFFABRRRQAUUUUAFFFFABRRRQAUUUUAFFFFABRRRQAUUUUAFFFFABRRRQBwfjDRjDffaYsJa3R/ecD5ZACc+2fX2riiMMR1we1ezanYR6nps9pN92VcA4+6ex/A15Vc2P2e78i6CxvbtsmGDg478DuP5185mGH5KnNHZn1mVYvnp8kt1+X9afcR22nSXBgiiBNzcOBEoPQepr1nStPj0vTIbSLkRryf7x7n8TXNeC9KMhOrzqAGUxWy45VQeW+vb867Cu/L8OoQ9o93+X/AATzM1xTqT9ktlv6/wDA/wAwooor1DxgooooAKKKKACiiigAooooAKKKKACiiigAooooAKKKKACiiigAooooAKKKKACiiigAooooAKKKKACiiigAooooAKKKKACiiigAooooAKKKKACiiigAooooAKKKKACiiigAooooAKKKKACiiigAooooAKKKKACiiigAooooAKKKKACiiigAooooAKKKKACiiigAooooAKKKKACiiigAooooAb5aGTzNi7x/Fjn86dRRQAUUUUAFFFFABRRRQAUUUUAFFFFABRRRQAUUUUAFFFFABRRRQAUUUUAFFFFABRRRQAUUUUAFFFFABRRRQAUUUUAFFFFABRRRQAUUUUAFFFFABRRRQAUUUUAFFFFABRRRQAVy3iXw1LqmqW1xaghZMR3RUgYQH73J69q6misqtKNaPLI2oV50J88NyOCGO2t44YV2xxqFUDsBUlFFarTRGTbbuwooooEFFFFABRRRQAUUUUAFFFFABRRRQAUUUUAFFFFABRRRQAUUUUAFFFFABRRRQAUUUUAFFFFABRRRQAUUUUAFFFFABRRRQAUUUUAFFFFABRRRQAUUUUAFFFFABRRRQAUUUUAFFFFABRRRQAUUUUAFFFFABRRRQAUUUUAFFFFABRRRQAUUUUAFFFFABRRRQAUUUUAFFFFABRRRQAUUUUAFFFFABRRRQAUUUUAFFFFABRRRQAUUUUAFFFFABRRRQAUUUUAFFFFABRRRQAUUUUAFFFFABRRRQAUUUUAFFFFABRRRQAUUUUAFFFFABRRRQAUUUUAFFFFABRRRQAUUUUAFFFFABRRRQAUUUUAFFFFABRRRQAUUUUAFFFFABRRRQB//2Q==)"
      ],
      "metadata": {
        "id": "vV4HDjwkKyR3"
      }
    },
    {
      "cell_type": "markdown",
      "source": [
        "**<div align=\"center\"><font size=\"4\">REGIONAL TRAINING</font>**\n",
        "\n",
        "\n"
      ],
      "metadata": {
        "id": "NgFr_kLzW5Jl"
      }
    },
    {
      "cell_type": "markdown",
      "source": [
        "<div align=\"center\"><font size=\"4\">Analysing permafrost in the Hindu Kush Himalaya using open access tools</font>"
      ],
      "metadata": {
        "id": "gtNjgbU4-wLA"
      }
    },
    {
      "cell_type": "markdown",
      "source": [
        "**<h1 align='center'>Field-based ground surface temperature data**\n"
      ],
      "metadata": {
        "id": "Uj2V6QF_-iRy"
      }
    },
    {
      "cell_type": "markdown",
      "source": [
        "*This notebook is prepared for the participants of the regional training on **Analysing permafrost in the Hindu Kush Himalaya using open access tools** organized by ICIMOD through its Cryosphere Initiative under the Regional Programme on River Basins and Cryosphere in collaboration with Kathmandu university and Tribhuvan University.*\n",
        "\n",
        "*The Cryosphere Initiative is supported by the Government of Norway and Swiss Agency for Development and Cooperation.*\n",
        "\n",
        "Coded by: Tika Ram Gurung                            \n",
        "Email: tika.gurung@icimod.org                 \n",
        "GitHub: https://github.com/TikaGurung/GST_Field_Data_Analysis\n",
        "\n",
        "---"
      ],
      "metadata": {
        "id": "4ixrthu_-koF"
      }
    },
    {
      "cell_type": "markdown",
      "source": [
        "Ground Surface Temperature (GST) is defined as the surface or near-surface \n",
        "temperature, measured in the uppermost centimetres of the ground. GST has to be distinguished from the Bottom Temperature of Snow cover (BTS), which is measured at the snow/ground interface.\n",
        "\n",
        "GST is not a measure of permafrost in the strict sense and corresponds to the temperature at the top of the active layer. However, it is an important parameter for the understanding of the thermal evolution of both active layer and permafrost, or of frozen ground in general.\n",
        "\n",
        "The analysis of the thermal regime gives valuable information about freezing and thawing occurrence of the ground. Mean annual ground surface temperature (MAGST), basal-ripening date (RD), melt-out date (MD) are some of the usual parameters for characterization of ground surface temperature conditions of the given location.\n",
        "\n",
        "> Mean annual ground surface temperature (MAGST) can be used as a unique average value. It should theoretically be negative in active permafrost areas but can be close to zero in permafrost boundary conditons.\n",
        "\n",
        "> Basal-ripening Date (RD) is the time when a frozen ground surface is warmed to zero-degree C by melt-water percolation or by strong rain-on-snow events. RD can only be detected in situations having negative temperatures at the snow-ground interface.\n",
        "\n",
        "> Melt-out date (MD) is the time when the snow cover is depleted and no further\n",
        "release of meltwater occurs, allowing the ground surface to warm above zero-degree C.\n",
        "\n",
        "In this exercise, the example data set is taken from the Lantang region, which is downloaded from the [ICIMOD RDS](https://rds.icimod.org/Home/Data?any=langtang&Category=datasets) as described in the [paper](https://onlinelibrary.wiley.com/doi/full/10.1002/hyp.14189). And we calculate and determine the MAGST, RD and MD of the different locations for each year."
      ],
      "metadata": {
        "id": "3FZLH3WBj1Ix"
      }
    },
    {
      "cell_type": "markdown",
      "source": [
        "### Required Packages\n",
        "This hands-on exercise requires the ***xts***, ***zoo***, ***matrixStats***, ***png*** and ***RgoogleMaps*** packages. Let's install and load them."
      ],
      "metadata": {
        "id": "rU0ZrYkyBwj1"
      }
    },
    {
      "cell_type": "code",
      "source": [
        "# install required packages\n",
        "install.packages(c('xts','zoo','matrixStats','png','RgoogleMaps')) # takes nearly 2 minutes"
      ],
      "metadata": {
        "id": "-hc8PT7WB2wN"
      },
      "execution_count": null,
      "outputs": []
    },
    {
      "cell_type": "code",
      "source": [
        "#load libraries\n",
        "library(xts) # \n",
        "library(zoo)\n",
        "library(matrixStats)\n",
        "library(png)\n",
        "library(RgoogleMaps)"
      ],
      "metadata": {
        "id": "rzQrW2kgeKq6"
      },
      "execution_count": null,
      "outputs": []
    },
    {
      "cell_type": "markdown",
      "source": [
        "### Defining working directory\n",
        "The working directory is set by creating two folders, one for processing data and another for the final product. The processed data folder is used as input directory for calculating RD, MD and MAGST."
      ],
      "metadata": {
        "id": "kpASbLV1nrCl"
      }
    },
    {
      "cell_type": "code",
      "source": [
        "getwd()\n",
        "dir.create('output_processed_data')\n",
        "in_path='/content/output_processed_data/'\n",
        "\n",
        "dir.create('output_final_product')\n",
        "out_path='/content/output_final_product/'"
      ],
      "metadata": {
        "id": "EhpXxKMknx6L"
      },
      "execution_count": null,
      "outputs": []
    },
    {
      "cell_type": "markdown",
      "source": [
        "### Loading data\n",
        "The downloaded GST data set is prepared into two sheets in .csv format based on the installation year 2016 and 2014, respectively. We have taken only the data from the GeoPrecison loggers. We also imported the air temperature data from the Yala Glacier Base Camp, which is located nearby all the sensor's location."
      ],
      "metadata": {
        "id": "LhQl9ng4BbE2"
      }
    },
    {
      "cell_type": "code",
      "source": [
        "##reading csv data\n",
        "#2016 data set\n",
        "csv2016 <- read.csv('https://raw.githubusercontent.com/TikaGurung/GST_Field_Data_Analysis/main/Geoprecision2016_GST_Data_Langtang_ICIMOD.csv',header = T)\n",
        "#2014 data set\n",
        "csv2014 <- read.csv('https://raw.githubusercontent.com/TikaGurung/GST_Field_Data_Analysis/main/Geoprecision2014_GST_Data_Langtang_ICIMOD.csv',header = T)\n",
        "#Yala BC data set\n",
        "AWSYalaBC <- read.csv('https://raw.githubusercontent.com/TikaGurung/GST_Field_Data_Analysis/main/AWSYalaBC.csv',header = T)\n",
        "#Coordinates\n",
        "Langtang<-read.csv('https://raw.githubusercontent.com/TikaGurung/GST_Field_Data_Analysis/main/Coordinatess%20of%20each%20sesnors.csv',header = T)\n",
        "\n",
        "## reading name of each loggere for both data sets\n",
        "names2016 <- colnames(csv2016)\n",
        "names2014 <- colnames(csv2014)\n",
        "\n",
        "#visualize the data structure\n",
        "View(csv2016)\n",
        "print(names2016)"
      ],
      "metadata": {
        "id": "3LLDLvOaBqJ1"
      },
      "execution_count": null,
      "outputs": []
    },
    {
      "cell_type": "markdown",
      "source": [
        "##Air temperature of Yala Glacier Base Camp\n",
        "Air temperature from Yala Glacier Base Camp AWS is taken to compare with the GST."
      ],
      "metadata": {
        "id": "si5pAto3wZju"
      }
    },
    {
      "cell_type": "code",
      "source": [
        "YalaBC_Time <- as.POSIXlt(paste(AWSYalaBC$DATE,AWSYalaBC$TIME),format = \"%m/%d/%Y %H:%M\",tz='')\n",
        "df.AirTemp <- as.xts(AWSYalaBC$TAIR, order.by=as.Date(YalaBC_Time, format='%Y-%m-%d %H:%M'))\n",
        "daily_AirTemp <- apply.daily(df.AirTemp, mean,na.rm=T)\n",
        "Yala_DailyAirT <- as.numeric(coredata(daily_AirTemp)) #extracting data only\n",
        "Yala_daily_TIME <- as.POSIXct(index(daily_AirTemp))"
      ],
      "metadata": {
        "id": "qvcqAhY_wfe9"
      },
      "execution_count": null,
      "outputs": []
    },
    {
      "cell_type": "markdown",
      "source": [
        "## Creating empty data frame for separating yearly data\n",
        "An empty data frame with one column is created for each year data for both the data sets. Later this empty data frame is used to combine the processed data from each sensor of different time periods."
      ],
      "metadata": {
        "id": "eagkADOrjwxx"
      }
    },
    {
      "cell_type": "code",
      "source": [
        "##2016 data\n",
        "MAGST2016 <- data.frame(seq(2017,2018));colnames(MAGST2016)=\"date\"\n",
        "\n",
        "GST2016_2017 <- data.frame(NA);colnames(GST2016_2017)=\"date\"\n",
        "GST2016_2018 <- data.frame(NA);colnames(GST2016_2018)=\"date\"\n",
        "\n",
        "Daily2016_2017 <- data.frame(NA);colnames(Daily2016_2017)=\"date\"\n",
        "Daily2016_2018 <- data.frame(NA);colnames(Daily2016_2018)=\"date\"\n",
        "\n",
        "SD2016_2018 <- data.frame(NA);colnames(SD2016_2018)=\"date\"\n",
        "SD2016_2017 <- data.frame(NA);colnames(SD2016_2017)=\"date\"\n",
        "\n",
        "##2014 data\n",
        "MAGST2014 <- data.frame(seq(2015,2018));colnames(MAGST2014)=\"date\"\n",
        "\n",
        "GST2014_2015 <- data.frame(NA);colnames(GST2014_2015)=\"date\"\n",
        "GST2014_2016 <- data.frame(NA);colnames(GST2014_2016)=\"date\"\n",
        "GST2014_2017 <- data.frame(NA);colnames(GST2014_2017)=\"date\"\n",
        "GST2014_2018 <- data.frame(NA);colnames(GST2014_2018)=\"date\"\n",
        "\n",
        "SD2014_2015 <- data.frame(NA);colnames(SD2014_2015)=\"date\"\n",
        "SD2014_2016 <- data.frame(NA);colnames(SD2014_2016)=\"date\"\n",
        "SD2014_2017 <- data.frame(NA);colnames(SD2014_2017)=\"date\"\n",
        "SD2014_2018 <- data.frame(NA);colnames(SD2014_2018)=\"date\"\n"
      ],
      "metadata": {
        "id": "LsnJNK3Ws-n-"
      },
      "execution_count": null,
      "outputs": []
    },
    {
      "cell_type": "markdown",
      "source": [
        "##Separation of GST: 2016 dataset\n",
        "The GST data set is prepared into yearly data and additionally a daily standard deviation is calculated. The hourly GST, daily GST and daily standard deviation of each sensor is plotted against the time. Furthermore, MAGST is calculated of each sensor for different years. We have prepared yearly data since we will be using the dataset as input files later to determine RD, MD and MAGST."
      ],
      "metadata": {
        "id": "WT74Z92VtTze"
      }
    },
    {
      "cell_type": "code",
      "source": [
        "par(mfrow=c(4,4)) ## to plot all the data\n",
        "\n",
        "for (i in 2:length(names2016)) {\n",
        "  ##selecting hydrological year, November to October due to the data availability period  \n",
        "  TIME<-as.POSIXlt(strptime(csv2016$TIME,format= \"%m/%d/%Y %H:%M\",tz=''))\n",
        "  GST<-csv2016[,i][TIME>=\"2016-11-1\" & TIME<\"2018-10-31\"] #GST\n",
        "  TIME<-TIME[TIME>=\"2016-11-1\" & TIME<\"2018-10-31\"] #Date\n",
        "  ###\n",
        "  \n",
        "  Sensor<-data.frame(TIME,GST)\n",
        "  ## Create xts object\n",
        "  df.xts <- as.xts(Sensor[,2], order.by=as.Date(Sensor[,1], format='%Y-%m-%d %H:%M'))\n",
        "  SD<-apply.daily(df.xts, sd) #aggregate(. ~ TIME, Sensor,FUN=sd) \n",
        "  StanDev<-as.numeric(coredata(SD)) #extracting data only\n",
        "  daily_TIME<-as.POSIXct(index(SD)) #data.frame(daily_TIME=index(SD), StanDev=coredata(SD))\n",
        "  \n",
        "  daily_GST<-apply.daily(df.xts, mean)\n",
        "  daily_GST<-as.numeric(coredata(daily_GST))\n",
        "  \n",
        "  ##calculating MAGST2016, no proper data\n",
        "  yearly_mean<-aggregate(GST, by = list(TIME$year), FUN = mean)\n",
        "  \n",
        "  GST2017 <- subset(GST, TIME >= as.POSIXct('2016-11-01') & TIME <= as.POSIXct('2017-11-01'))\n",
        "  TIME2017 <- subset(TIME, TIME >= as.POSIXct('2016-11-01') & TIME <= as.POSIXct('2017-11-01'))\n",
        "  GST2017<-data.frame(TIME2017,GST2017);colnames(GST2017)=c('date','GST')\n",
        "  \n",
        "  GST2018 <- subset(GST, TIME >= as.POSIXct('2017-11-01') & TIME <= as.POSIXct('2018-11-01'))\n",
        "  TIME2018 <- subset(TIME, TIME >= as.POSIXct('2017-11-01') & TIME <= as.POSIXct('2018-11-01'))\n",
        "  GST2018<-data.frame(TIME2018,GST2018);colnames(GST2018)=c('date','GST')\n",
        "  \n",
        "  Daily2017 <- subset(daily_TIME, daily_TIME >= as.POSIXct('2016-11-01') & daily_TIME <= as.POSIXct('2017-11-01'))\n",
        "  Daily_GST_2017 <- subset(daily_GST, daily_TIME >= as.POSIXct('2016-11-01') & daily_TIME <= as.POSIXct('2017-11-01'))\n",
        "  Daily_GST_2017<-data.frame(Daily2017,Daily_GST_2017);colnames(Daily_GST_2017)=c('TIME',names2016[i])\n",
        "  \n",
        "  SD2017 <- subset(StanDev, daily_TIME >= as.POSIXct('2016-11-01') & daily_TIME <= as.POSIXct('2017-11-01'))\n",
        "  SD2017<-data.frame(Daily2017,SD2017);colnames(SD2017)=c('TIME',names2016[i])\n",
        "  \n",
        "  Daily2018 <- subset(daily_TIME, daily_TIME >= as.POSIXct('2017-11-01') & daily_TIME <= as.POSIXct('2018-11-01'))\n",
        "  Daily_GST_2018 <- subset(daily_GST, daily_TIME >= as.POSIXct('2017-11-01') & daily_TIME <= as.POSIXct('2018-11-01'))\n",
        "  Daily_GST_2018<-data.frame(Daily2018,Daily_GST_2018);colnames(Daily_GST_2018)=c('TIME',names2016[i])\n",
        "  \n",
        "  SD2018 <- subset(StanDev, daily_TIME >= as.POSIXct('2017-11-01') & daily_TIME <= as.POSIXct('2018-11-01'))\n",
        "  SD2018<-data.frame(Daily2018,SD2018);colnames(SD2018)=c('TIME',names2016[i])\n",
        "  \n",
        "  ##MAGST2016 calculation \n",
        "  Temp<-data.frame(seq(2017,2018),c(mean(GST2017$GST,na.rm = T),mean(GST2018$GST,na.rm = T)))\n",
        "  colnames(Temp)<-c('TIME',names2016[i])\n",
        "  \n",
        "  MAGST2016<-cbind(MAGST2016, Temp[2])\n",
        "  \n",
        "  ##Data separation for future use\n",
        "  \n",
        "  colnames(GST2017)<-c('TIME',names2016[i])\n",
        "  colnames(GST2018)<-c('TIME',names2016[i])\n",
        "  \n",
        "  ##GST hourly\n",
        "  GST2016_2017<-cbind(GST2016_2017, GST2017[2])\n",
        "  GST2016_2018<-cbind(GST2016_2018, GST2018[2])\n",
        "  \n",
        "  ##SD\n",
        "  SD2016_2017<-cbind(SD2016_2017, SD2017[2])\n",
        "  SD2016_2018<-cbind(SD2016_2018, SD2018[2])\n",
        "  \n",
        "  ##GST daily\n",
        "  Daily2016_2017<-cbind(Daily2016_2017, Daily_GST_2017[2])\n",
        "  Daily2016_2018<-cbind(Daily2016_2018, Daily_GST_2018[2])\n",
        "  \n",
        "  #par(mfrow = c(1,1),mar=c(4.5,4,2,4)+0.25)\n",
        "  plot(TIME,GST,type = 'l',col='grey',ylab = '',xlab = '')\n",
        "  lines(daily_TIME,daily_GST,col='red')\n",
        "  abline(h=0,lwd=1,lty=3)\n",
        "  mtext(expression(GST~(degree~C)),side=2,line=3,col='grey')\n",
        "  par(new=TRUE)\n",
        "  plot(daily_TIME,StanDev,type='l', ylim = c(0,40),xaxt=\"n\",col=\"blue\",yaxt=\"n\",xlab=\"\",ylab=\"\")\n",
        "  axis(4)\n",
        "  mtext('StanDev',side=4,line=3,col='blue')\n",
        "  title(paste('Geoprecision',names2016[i]))\n",
        "}\n",
        "\n",
        "\n",
        "##import date\n",
        "GST2016_2017$date<-TIME2017;GST2016_2017=head(GST2016_2017,-1)\n",
        "GST2016_2018$date<-TIME2018;GST2016_2018=head(GST2016_2018,-1)\n",
        "\n",
        "SD2016_2017$date<-Daily2017\n",
        "SD2016_2018$date<-Daily2018\n",
        "\n",
        "Daily2016_2017$date<-Daily2017\n",
        "Daily2016_2018$date<-Daily2018"
      ],
      "metadata": {
        "id": "40kETmR1ti-d"
      },
      "execution_count": null,
      "outputs": []
    },
    {
      "cell_type": "markdown",
      "source": [
        "It seems that all sensors are there - but let's quickly have a look at a single sensor to get a grip on all labels, axis etc. We will then go into more detail further below."
      ],
      "metadata": {
        "id": "_OlFFfqpg4kQ"
      }
    },
    {
      "cell_type": "code",
      "source": [
        "  #par(mfrow = c(1,1),mar=c(4.5,4,2,4)+0.25)\n",
        "  plot(TIME,GST,type = 'l',col='grey',ylab = '',xlab = '')\n",
        "  lines(daily_TIME,daily_GST,col='red')\n",
        "  abline(h=0,lwd=1,lty=3)\n",
        "  mtext(expression(GST~(degree~C)),side=2,line=3,col='grey')\n",
        "  par(new=TRUE)\n",
        "  plot(daily_TIME,StanDev,type='l', ylim = c(0,50),xaxt=\"n\",col=\"blue\",yaxt=\"n\",xlab=\"\",ylab=\"\")\n",
        "  axis(4)\n",
        "  mtext('StanDev',side=4,line=1,col='blue')\n",
        "  title(paste('Geoprecision',names2016[6]))"
      ],
      "metadata": {
        "id": "wyp1PU-XhDjv"
      },
      "execution_count": null,
      "outputs": []
    },
    {
      "cell_type": "markdown",
      "source": [
        "###Export the separated data\n",
        "The prepared yearly GST data and MAGST data are exported to the processed data folder.\n",
        "\n"
      ],
      "metadata": {
        "id": "HgBcleSPv5U7"
      }
    },
    {
      "cell_type": "code",
      "source": [
        "head(GST2016_2017) #view the heading of data set"
      ],
      "metadata": {
        "id": "yqZLAaXkjv8C"
      },
      "execution_count": null,
      "outputs": []
    },
    {
      "cell_type": "code",
      "source": [
        "print(MAGST2016) #view the data set"
      ],
      "metadata": {
        "id": "DgaOtl8oxtNo"
      },
      "execution_count": null,
      "outputs": []
    },
    {
      "cell_type": "code",
      "source": [
        "##exporting data\n",
        "write.csv(GST2016_2017, paste(in_path,\"GST2016_2017.csv\",sep = ''), row.names=FALSE, quote=FALSE)\n",
        "write.csv(GST2016_2018, paste(in_path,\"GST2016_2018.csv\",sep = ''), row.names=FALSE, quote=FALSE)\n",
        "\n",
        "write.csv(MAGST2016, paste(out_path,\"MAGST2016.csv\",sep = ''), row.names=FALSE, quote=FALSE)"
      ],
      "metadata": {
        "id": "-0t6Q7B8v_OU"
      },
      "execution_count": null,
      "outputs": []
    },
    {
      "cell_type": "markdown",
      "source": [
        "### Evaluating data of a single sensor\n",
        "To go for a clearer visualization and to really understand processes we'll just have a look at a single sensor below. Here we have also added the air temperature data from the Yala Glacier BC and calculated mean annnul air temperature (MAAT) to compare with MAGST. You can already get a sense of RD, MD, zero curtain and the snow-cover period from the plot. You can comapare your prediction of RD and MD at the end of the session as well. You can also play with different sensor of each year, by changing around the *j* variable in the first line. Explore a number of them and see the differences.\n",
        "\n",
        "What do you see? Are variabilities and seasonalities what you expect? What about the standard deviation? How is air and ground temperature linked? Where are they disconnected?"
      ],
      "metadata": {
        "id": "tSTTdqABoFwx"
      }
    },
    {
      "cell_type": "code",
      "source": [
        "j=2 #first column data, you can alter the number\n",
        "par(mfrow = c(1,1),mar=c(4.5,4,2,4)+0.25)\n",
        "plot(GST2016_2017$date,GST2016_2017[,j],type = 'l',ylim = c(-20,10),col='grey',ylab = expression(Temperature~(degree~C)),xlab = 'Date',xaxt='n')\n",
        "lines(Daily2017,Daily2016_2017[,j],col='red')\n",
        "#air temp, prepare according to the GST data\n",
        "Yala_daily_TIME_2017=subset(Yala_daily_TIME, Yala_daily_TIME >= as.POSIXct('2016-11-01') & Yala_daily_TIME <= as.POSIXct('2017-11-01'))\n",
        "Yala_DailyAirT_2017=subset(Yala_DailyAirT, Yala_daily_TIME >= as.POSIXct('2016-11-01') & Yala_daily_TIME <= as.POSIXct('2017-11-01'))\n",
        "lines(Daily2017,Yala_DailyAirT_2017,col='steel blue')\n",
        "\n",
        "abline(h=0,lwd=1,lty=3)\n",
        "par(new=TRUE)\n",
        "plot(Daily2017,SD2016_2017[,j],type='l', ylim = c(-2,70),xaxt=\"n\",col=\"blue\",yaxt=\"n\",xlab=\"\",ylab=\"\")\n",
        "axis(4)\n",
        "mtext('StanDev',side=4,line=3,col='blue')\n",
        "legend('topleft',legend = c('Hourly GST','Daily GST','GST Standard deviation','Daily AirT Yala BC'), lty = c(1,1,1,1),col = c('grey','red','blue','steel blue'),\n",
        "       box.col = \"white\")\n",
        "box()\n",
        "text(as.POSIXlt('2017-08-01'),15,paste0(\"MAGST = \", round(MAGST2016[1,][j],2))) #check the date, row number\n",
        "text(as.POSIXlt('2017-08-01'),10,paste0(\"MAAT = \", round(mean(Yala_DailyAirT_2017,na.rm = T),2)))#check the year\n",
        "title('Geoprecision D16') #name might be different if you choose different sensor\n",
        "months <- seq(min(Daily2017), max(Daily2017), \"month\")\n",
        "axis(1,months,format(months, \"%b-%Y\"))"
      ],
      "metadata": {
        "id": "jMUJTH2zoMfY"
      },
      "execution_count": null,
      "outputs": []
    },
    {
      "cell_type": "markdown",
      "source": [
        "###Selecting January to March SD data: 2016 Dataset\n",
        "Insulating snow-cover is required to detect the MD. So we define the a snow-cover reliability index ($MDr$) based on the mean daily standard deviation of GST during January-March.\n",
        "$MDr= Threshold - \\sigma(GST_{Jan-Mar})$.\n",
        "\n",
        "We will detemine the $threshold$ value subjectively based on the visual intrepretation of GST and its daily standard deviation during the winter of both 2016 and 2014 dataset. If $MDr$ is greater than zero, we assume that the insulation effect of the snow cover is sufficient to allow the reliable derivation of MD."
      ],
      "metadata": {
        "id": "AKzgnz0uvnas"
      }
    },
    {
      "cell_type": "code",
      "source": [
        "SD2016_Jan_Mar2017<-SD2016_2017[SD2016_2017$date>=as.POSIXct('2017-01-01') & SD2016_2017$date <= as.POSIXct('2017-04-01'),]\n",
        "SD2016_Jan_Mar2018<-SD2016_2018[SD2016_2018$date>=as.POSIXct('2018-01-01') & SD2016_2018$date <= as.POSIXct('2018-04-01'),]\n",
        "\n",
        "SD2016_Jan_Mar2017<-SD2016_Jan_Mar2017[-1] #removing date\n",
        "SD2016_Jan_Mar2018<-SD2016_Jan_Mar2018[-1] #removing date\n",
        "\n",
        "Mean_SD2016_Jan_Mar2017<-colMeans(SD2016_Jan_Mar2017)\n",
        "Mean_SD2016_Jan_Mar2018<-colMeans(SD2016_Jan_Mar2018)\n",
        "\n",
        "sorted2016_2017<-sort(Mean_SD2016_Jan_Mar2017)\n",
        "sorted2016_2018<-sort(Mean_SD2016_Jan_Mar2018)"
      ],
      "metadata": {
        "id": "PnzH574_vp-T"
      },
      "execution_count": null,
      "outputs": []
    },
    {
      "cell_type": "code",
      "source": [
        "mean(SD2016_Jan_Mar2017[,3]) #check individual mean standard deviation"
      ],
      "metadata": {
        "id": "5sal-7_s00bn"
      },
      "execution_count": null,
      "outputs": []
    },
    {
      "cell_type": "markdown",
      "source": [
        "# Separation of GST: 2014 dataset\n",
        "We will now look into the datasets of sensors that were already installed in 2014. The process is the same as before however."
      ],
      "metadata": {
        "id": "tnSRj9GQpNZn"
      }
    },
    {
      "cell_type": "code",
      "source": [
        "par(mfrow=c(3,3)) ## to plot all the data\n",
        "\n",
        "for (i in 2:length(names2014)) {\n",
        "  #selecting hydrological year  \n",
        "  TIME<-as.POSIXlt(strptime(csv2014$TIME,format= \"%m/%d/%Y %H:%M\",tz=''))\n",
        "  GST<-csv2014[,i][TIME>=\"2014-9-1\" & TIME<\"2018-9-30\"] #GST\n",
        "  TIME<-TIME[TIME>=\"2014-9-1 \" & TIME<\"2018-9-30\"] #Date\n",
        "  ###\n",
        "  \n",
        "  Sensor<-data.frame(TIME,GST)\n",
        "  # Create xts object\n",
        "  df.xts <- as.xts(Sensor[,2], order.by=as.Date(Sensor[,1], format='%Y-%m-%d %H:%M'))\n",
        "  SD=apply.daily(df.xts, sd) #aggregate(. ~ TIME, Sensor,FUN=sd) \n",
        "  StanDev<-as.numeric(coredata(SD)) #extracting data only\n",
        "  daily_TIME<-as.POSIXct(index(SD)) #data.frame(daily_TIME=index(SD), StanDev=coredata(SD))\n",
        "  \n",
        "  daily_GST<-apply.daily(df.xts, mean)\n",
        "  daily_GST<-as.numeric(coredata(daily_GST))\n",
        "  \n",
        "  ###calculating MAGST2014, no proper data\n",
        "  yearly_mean<-aggregate(GST, by = list(TIME$year), FUN = mean)\n",
        "  \n",
        "  ##MAGST2014 based on hydrological year\n",
        "  GST2015 <- subset(GST, TIME >= as.POSIXct('2014-10-01') & TIME <= as.POSIXct('2015-10-01'))\n",
        "  TIME2015 <- subset(TIME, TIME >= as.POSIXct('2014-10-01') & TIME <= as.POSIXct('2015-10-01'))\n",
        "  GST2015<-data.frame(TIME2015,GST2015);colnames(GST2015)=c('date','GST')\n",
        "  \n",
        "  GST2016 <- subset(GST, TIME >= as.POSIXct('2015-10-01') & TIME <= as.POSIXct('2016-10-01'))\n",
        "  TIME2016 <- subset(TIME, TIME >= as.POSIXct('2015-10-01') & TIME <= as.POSIXct('2016-10-01'))\n",
        "  GST2016<-data.frame(TIME2016,GST2016);colnames(GST2016)=c('date','GST')\n",
        "  \n",
        "  GST2017 <- subset(GST, TIME >= as.POSIXct('2016-10-01') & TIME <= as.POSIXct('2017-10-01'))\n",
        "  TIME2017 <- subset(TIME, TIME >= as.POSIXct('2016-10-01') & TIME <= as.POSIXct('2017-10-01'))\n",
        "  GST2017<-data.frame(TIME2017,GST2017);colnames(GST2017)=c('date','GST')\n",
        "  \n",
        "  GST2018 <- subset(GST, TIME >= as.POSIXct('2017-10-01') & TIME <= as.POSIXct('2018-10-01'))\n",
        "  TIME2018 <- subset(TIME, TIME >= as.POSIXct('2017-10-01') & TIME <= as.POSIXct('2018-10-01'))\n",
        "  GST2018<-data.frame(TIME2018,GST2018);colnames(GST2018)=c('date','GST')\n",
        "  \n",
        "  #Standard deviation\n",
        "  SD2015 <- subset(StanDev, daily_TIME >= as.POSIXct('2014-10-01') & daily_TIME <= as.POSIXct('2015-10-01'))\n",
        "  Daily2015 <- subset(daily_TIME, daily_TIME >= as.POSIXct('2014-10-01') & daily_TIME <= as.POSIXct('2015-10-01'))\n",
        "  SD2015<-data.frame(Daily2015,SD2015);colnames(SD2015)=c('TIME',names2014[i])\n",
        "  \n",
        "  SD2016 <- subset(StanDev, daily_TIME >= as.POSIXct('2015-10-01') & daily_TIME <= as.POSIXct('2016-10-01'))\n",
        "  Daily2016 <- subset(daily_TIME, daily_TIME >= as.POSIXct('2015-10-01') & daily_TIME <= as.POSIXct('2016-10-01'))\n",
        "  SD2016<-data.frame(Daily2016,SD2016);colnames(SD2016)=c('TIME',names2014[i])\n",
        "  \n",
        "  SD2017 <- subset(StanDev, daily_TIME >= as.POSIXct('2016-10-01') & daily_TIME <= as.POSIXct('2017-10-01'))\n",
        "  Daily2017 <- subset(daily_TIME, daily_TIME >= as.POSIXct('2016-10-01') & daily_TIME <= as.POSIXct('2017-10-01'))\n",
        "  SD2017<-data.frame(Daily2017,SD2017);colnames(SD2017)=c('TIME',names2014[i])\n",
        "  \n",
        "  SD2018 <- subset(StanDev, daily_TIME >= as.POSIXct('2017-10-01') & daily_TIME <= as.POSIXct('2018-10-01'))\n",
        "  Daily2018 <- subset(daily_TIME, daily_TIME >= as.POSIXct('2017-10-01') & daily_TIME <= as.POSIXct('2018-10-01'))\n",
        "  SD2018=data.frame(Daily2018,SD2018);colnames(SD2018)=c('TIME',names2014[i])\n",
        "  \n",
        "  ##MAGST2014 calculation \n",
        "  Temp<-data.frame(seq(2015,2018),c(mean(GST2015$GST,na.rm = T),mean(GST2016$GST,na.rm = T),mean(GST2017$GST,na.rm = T),mean(GST2018$GST,na.rm = T)))\n",
        "  colnames(Temp)<-c('TIME',names2014[i])\n",
        "  \n",
        "  MAGST2014<-cbind(MAGST2014, Temp[2])\n",
        "  \n",
        "  ##Data separation for future use\n",
        "  colnames(GST2015)<-c('TIME',names2014[i])\n",
        "  colnames(GST2016)<-c('TIME',names2014[i])\n",
        "  colnames(GST2017)<-c('TIME',names2014[i])\n",
        "  colnames(GST2018)<-c('TIME',names2014[i])\n",
        "  \n",
        "  GST2014_2015<-cbind(GST2014_2015, GST2015[2])\n",
        "  GST2014_2016<-cbind(GST2014_2016, GST2016[2])\n",
        "  GST2014_2017<-cbind(GST2014_2017, GST2017[2])\n",
        "  GST2014_2018<-cbind(GST2014_2018, GST2018[2])\n",
        "   \n",
        "  ##standard deviation\n",
        "  SD2014_2015<-cbind(SD2014_2015, SD2015[2])\n",
        "  SD2014_2016<-cbind(SD2014_2016, SD2016[2])\n",
        "  SD2014_2017<-cbind(SD2014_2017, SD2017[2])\n",
        "  #SD2014_2018<-cbind(SD2014_2018, SD2018[2]) #issues with NA data, will deal separately\n",
        "  \n",
        "  #par(mfrow = c(1,1),mar=c(4.5,4,2,4)+0.25)\n",
        "  plot(TIME,GST,type = 'l',col='grey',ylab = '',xlab = '')\n",
        "  lines(daily_TIME,daily_GST,col='red')\n",
        "  abline(h=0,lwd=1,lty=3)\n",
        "  mtext(expression(GST~(degree~C)),side=2,line=3,col='grey')\n",
        "  par(new=TRUE)\n",
        "  plot(daily_TIME,StanDev,type='l', ylim = c(-2,70),xaxt=\"n\",col=\"blue\",yaxt=\"n\",xlab=\"\",ylab=\"\")\n",
        "  axis(4)\n",
        "  mtext('StanDev',side=4,line=3,col='blue')\n",
        "  title(paste('Geoprecision',names2014[i]))\n",
        "}\n",
        "\n",
        "\n",
        "##adding date\n",
        "GST2014_2015$date<-TIME2015;GST2014_2015=head(GST2014_2015,-1)\n",
        "GST2014_2016$date<-TIME2016;GST2014_2016=head(GST2014_2016,-1)\n",
        "GST2014_2017$date<-TIME2017;GST2014_2017=head(GST2014_2017,-1)\n",
        "GST2014_2018$date<-TIME2018;GST2014_2018=head(GST2014_2018,-1)\n",
        "####due to issues with NA data in 2018\n",
        "df.xts2 <- as.xts(GST2014_2018[,2:10], order.by=as.Date(GST2014_2018[,1], format='%Y-%m-%d %H:%M'))\n",
        "SD2014_2018<-apply.daily(df.xts2,colSds)\n",
        "SD2014_2018<-as.data.frame(SD2014_2018)\n",
        "\n",
        "##\n",
        "SD2014_2015$date<-Daily2015\n",
        "SD2014_2016$date<-Daily2016\n",
        "SD2014_2017$date<-Daily2017\n",
        "SD2014_2018$date<-Daily2018"
      ],
      "metadata": {
        "id": "0xM6qKzYpUj4"
      },
      "execution_count": null,
      "outputs": []
    },
    {
      "cell_type": "code",
      "source": [
        "print(MAGST2014) #view MAGST of 2014 dataset"
      ],
      "metadata": {
        "id": "9Bdl7fiUx0AK"
      },
      "execution_count": null,
      "outputs": []
    },
    {
      "cell_type": "markdown",
      "source": [
        "###Export the separated data\n",
        "This is again similar to what we did before, as we are just exporting the separated dataset into the desired location."
      ],
      "metadata": {
        "id": "As9SvHPfw5ws"
      }
    },
    {
      "cell_type": "code",
      "source": [
        "write.csv(GST2014_2015, paste(in_path,\"GST2014_2015.csv\",sep = ''), row.names=FALSE, quote=FALSE)\n",
        "write.csv(GST2014_2016, paste(in_path,\"GST2014_2016.csv\",sep = ''), row.names=FALSE, quote=FALSE)\n",
        "write.csv(GST2014_2017, paste(in_path,\"GST2014_2017.csv\",sep = ''), row.names=FALSE, quote=FALSE)\n",
        "write.csv(GST2014_2018, paste(in_path,\"GST2014_2018.csv\",sep = ''), row.names=FALSE, quote=FALSE)\n",
        "\n",
        "write.csv(MAGST2016, paste(out_path,\"MAGST2016.csv\",sep = ''), row.names=FALSE, quote=FALSE)"
      ],
      "metadata": {
        "id": "y8o1y8fMz00g"
      },
      "execution_count": null,
      "outputs": []
    },
    {
      "cell_type": "markdown",
      "source": [
        "###Selecting January to March SD data: 2014 Dataset\n",
        "We now again select subsets of the data."
      ],
      "metadata": {
        "id": "Cnct1YOJudzU"
      }
    },
    {
      "cell_type": "code",
      "source": [
        "SD2014_Jan_Mar2015<-SD2014_2015[SD2014_2015$date>=as.POSIXct('2015-01-01') & SD2014_2015$date <= as.POSIXct('2015-04-01'),]\n",
        "SD2014_Jan_Mar2016<-SD2014_2016[SD2014_2016$date>=as.POSIXct('2016-01-01') & SD2014_2016$date <= as.POSIXct('2016-04-01'),]\n",
        "SD2014_Jan_Mar2017<-SD2014_2017[SD2014_2017$date>=as.POSIXct('2017-01-01') & SD2014_2017$date <= as.POSIXct('2017-04-01'),]\n",
        "SD2014_Jan_Mar2018<-SD2014_2018[SD2014_2018$date>=as.POSIXct('2018-01-01') & SD2014_2018$date <= as.POSIXct('2018-04-01'),]\n",
        "\n",
        "SD2014_Jan_Mar2015<-SD2014_Jan_Mar2015[-1] #removing date\n",
        "SD2014_Jan_Mar2016<-SD2014_Jan_Mar2016[-1] #removing date\n",
        "SD2014_Jan_Mar2017<-SD2014_Jan_Mar2017[-1] #removing date\n",
        "SD2014_Jan_Mar2018<-SD2014_Jan_Mar2018[-10] #removing date\n",
        "\n",
        "Mean_SD2014_Jan_Mar2015 <- colMeans(SD2014_Jan_Mar2015)\n",
        "Mean_SD2014_Jan_Mar2016 <- colMeans(SD2014_Jan_Mar2016)\n",
        "Mean_SD2014_Jan_Mar2017 <- colMeans(SD2014_Jan_Mar2017)\n",
        "Mean_SD2014_Jan_Mar2018 <- colMeans(SD2014_Jan_Mar2018)\n",
        "\n",
        "sorted2014_2015 <- sort(Mean_SD2014_Jan_Mar2015)\n",
        "sorted2014_2016 <- sort(Mean_SD2014_Jan_Mar2016)\n",
        "sorted2014_2017 <- sort(Mean_SD2014_Jan_Mar2017)\n",
        "sorted2014_2018 <- sort(Mean_SD2014_Jan_Mar2018)"
      ],
      "metadata": {
        "id": "Q6d1ZP8r0Ad3"
      },
      "execution_count": null,
      "outputs": []
    },
    {
      "cell_type": "markdown",
      "source": [
        "# Defining snow cover reliability index based on the visual interpretation\n",
        "To determine the snow-cover reliability index we need the standard deviation of GST data during the winter period, in our case January to March. The $threshold$ value, which separates the insulating and non-insulating snow cover, is chosen visually from the knickpoint in the curve of the figure we create below. Since we have used both 2016 and 2014 data set, we have taken the $threshold$ value which matches best for both the datasets."
      ],
      "metadata": {
        "id": "cuG6apWa0Ef3"
      }
    },
    {
      "cell_type": "code",
      "source": [
        "##plot\n",
        "#png(paste(in_path,'/Mean_Daily_SD_January_March.png',sep = ''),width = 11,height = 8,units='in',res=300)#saves .png file in your working directory\n",
        "par(mfrow=c(1,1))\n",
        "plot(sorted2016_2017,ylab = 'mean daily standard deviation of GST Jan-March',xlab = 'Geoprecisions (sorted)',pch=15)\n",
        "points(sorted2016_2018,pch=16)\n",
        "points(sorted2014_2015,pch=22)\n",
        "points(sorted2014_2016,pch=23)\n",
        "points(sorted2014_2017,pch=24)\n",
        "points(sorted2014_2018,pch=25)\n",
        "abline(h=2,lty=3)\n",
        "legend('topleft',legend = c('GST2014_2015','GST2014_2016','GST2014_2017','GST2014_2018','GST2016_2017','GST2016_2018'),\n",
        "       pch = c(22,23,24,25,15,16),box.col = 'white')\n",
        "box()\n",
        "#dev.off() #ends plot\n",
        "\n",
        "MDr.sd <- 2 #based on the visual interpretation of GST"
      ],
      "metadata": {
        "id": "NiJ3WFdd0XxY"
      },
      "execution_count": null,
      "outputs": []
    },
    {
      "cell_type": "code",
      "source": [
        "###read/visualize the plot, if you have save in your drive\n",
        "#mean_SD <- readPNG('/content/output_processed_data/Mean_Daily_SD_January_March.png')\n",
        "#grid::grid.raster(mean_SD)"
      ],
      "metadata": {
        "id": "BFQLAxSavjSD"
      },
      "execution_count": null,
      "outputs": []
    },
    {
      "cell_type": "markdown",
      "source": [
        "**Discussion point**:\n",
        "What might be the reason for having a higher standard deviation value?"
      ],
      "metadata": {
        "id": "1ca_xzQ8his0"
      }
    },
    {
      "cell_type": "markdown",
      "source": [
        "# iButton function to determine the RD, MD and MAGST\n",
        "The original code is prepared by M.-O. Schmid while describing the [measurements of near-surface ground temperatures](https://tc.copernicus.org/articles/6/1127/2012/). This function detemines the RD, MD and MAGST based on the data you prepared previously for each year. We have placed the source code on [github](https://raw.githubusercontent.com/amrit-thapa-2044/ICIMOD_permafrost_training_2022/main/input_permafrost/Field_Data/iButton_function.R) and apply it here by using the ***source*** command.\n",
        "\n",
        "Remember this command, as allows you to call functions you wrote elsewhere, rather than copy pasting all code into new code and therefore making your files unnecessarily long."
      ],
      "metadata": {
        "id": "xYuKFUQu94q4"
      }
    },
    {
      "cell_type": "code",
      "source": [
        "source('https://raw.githubusercontent.com/TikaGurung/GST_Field_Data_Analysis/main/iButton_function.R')"
      ],
      "metadata": {
        "id": "--M4t3ZEqNCq"
      },
      "execution_count": null,
      "outputs": []
    },
    {
      "cell_type": "markdown",
      "source": [
        "## Determination of RD, MD and MAGST\n",
        "This step will give you the RD, MD and MAGST based on the data prepared. Here, the input file is taken from <font color='orange'>in_path</font> that you have defined and produce the final output in the <font color='orange'>out_path</font>. You can change your input and output file for each individual prepared dataset."
      ],
      "metadata": {
        "id": "bApswIPt_D6m"
      }
    },
    {
      "cell_type": "code",
      "source": [
        "###you can check the MAGST, RD, MD by changing input and output files\n",
        "\n",
        "in.matrix <- 'GST2014_2015.csv'\n",
        "out.matrix <- 'GST2014_out_2015.csv'\n",
        "\n",
        "#function\n",
        "f_iButton(in_path,in.matrix,out_path,out.matrix)"
      ],
      "metadata": {
        "id": "jBrfQ3T8_YpG"
      },
      "execution_count": null,
      "outputs": []
    },
    {
      "cell_type": "code",
      "source": [
        "#View the final ouput, you can change your file name\n",
        "permafrost_indices=read.csv('/content/output_final_product/GST2014_out_2015.csv')\n",
        "print(permafrost_indices)"
      ],
      "metadata": {
        "id": "1FKOxQY3mZfE"
      },
      "execution_count": null,
      "outputs": []
    },
    {
      "cell_type": "markdown",
      "source": [
        "***Discussion points***\n",
        "\n",
        "(a) What has happened for all the NA values?\n",
        "\n",
        "(b) How about the ripening date (RD), does that makes sense, in terms of season?\n",
        "\n",
        "(c) How do you think you can explain the differences in MD for the different sensors? What other constant of those sensors would be good to know to interpret this data?\n",
        "\n",
        "(d) Is the MAGST data enough to tell you something about the permafrost state of these sensors? What else would you need?"
      ],
      "metadata": {
        "id": "omF0s8kK1FTE"
      }
    },
    {
      "cell_type": "markdown",
      "source": [
        "## Sensor location\n",
        "Now we are simply visualizing the location map."
      ],
      "metadata": {
        "id": "nggQstKBQv0D"
      }
    },
    {
      "cell_type": "code",
      "source": [
        "GeoPrecision<-Langtang[Langtang$Logger==\"GeoPrecision\",] #subseting the sensor\n",
        "\n",
        "# x,y plot:\n",
        "x = GeoPrecision$Lon\n",
        "y = GeoPrecision$Lat\n",
        "\n",
        "coords <- cbind(x,y)\n",
        "\n",
        "# Make the dataframe spatial:\n",
        "spdf = SpatialPointsDataFrame(coords,GeoPrecision[,6:12])\n",
        "\n",
        "#Exercise: plot station locations on Google Map\n",
        "spdf.bbox = bbox(spdf)# bounding box of all features\n",
        "Langtang_map <- GetMap.bbox(lonR = spdf.bbox[1,], latR = spdf.bbox[2,], maptype = \"satellite\", zoom = 13)\n",
        "PlotOnStaticMap(Langtang_map,lat = GeoPrecision$Lat, lon = GeoPrecision$Lon, zoom = 11, \n",
        "                cex = 2, pch = 20, col = \"red\", FUN = points, add = F)\n"
      ],
      "metadata": {
        "id": "9J51ScayOOEX"
      },
      "execution_count": null,
      "outputs": []
    },
    {
      "cell_type": "markdown",
      "source": [
        ": <h1 align='center'>**THANK YOU**</h1>"
      ],
      "metadata": {
        "id": "TCR0q1GO_rm1"
      }
    }
  ]
}